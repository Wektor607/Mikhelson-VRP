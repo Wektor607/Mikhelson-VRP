{
 "cells": [
  {
   "cell_type": "code",
   "execution_count": 9,
   "metadata": {},
   "outputs": [],
   "source": [
    "def Initialize(count): # задаем список из count городов и случайно их перемешиваем\n",
    "    solution = np.arange(count)\n",
    "    np.random.shuffle(solution)\n",
    "    return solution\n",
    "\n",
    "# Вычесление вероятности P\n",
    "def GetTransitionProbability(dE, T):\n",
    "    P = np.exp(-dE / T)\n",
    "    return P\n",
    "\n",
    "# Есть отрезок [0, 1] и его поделили на 2 части. \n",
    "# Соответсвенно если число меньше P, то совершаем переход, в противном случае нет\n",
    "def IsTransition(probability):\n",
    "    if((probability > 1) or (probability < 0)):\n",
    "        error('Violation of argument constraint')\n",
    "        \n",
    "    value = np.random.uniform() #  генерирует случайное число от 0.0 до 1.0\n",
    "    if(value < probability):\n",
    "        a = 1\n",
    "    else:\n",
    "        a = 0\n",
    "    \n",
    "    return a\n",
    "\n",
    "# Реализация функции F, которая порождает новое состояние\n",
    "def GenerateStateCandidate(current):\n",
    "    new = current.copy()\n",
    "    index_a = np.random.randint(len(current))\n",
    "    index_b = np.random.randint(len(current))\n",
    "    while index_b == index_a:\n",
    "        index_b = np.random.randint(len(current))\n",
    "    if(index_a > index_b):\n",
    "        new[index_b:index_a] = np.flip(new[index_b:index_a])\n",
    "    else:\n",
    "        new[index_a:index_b] = np.flip(new[index_a:index_b])\n",
    "    return new\n",
    "\n",
    "# Вычисление энергии E\n",
    "def CalculateEnergy(cities, cur):\n",
    "    E = 0\n",
    "    for i in range(len(cities)):\n",
    "        ind_1 = cur[i]\n",
    "        ind_2 = cur[i - 1]\n",
    "        x_dist = cities[ind_1][0] - cities[ind_2][0] \n",
    "        y_dist = cities[ind_1][1] - cities[ind_2][1]\n",
    "        E = E + np.sqrt(x_dist ** 2 + y_dist ** 2)\n",
    "    return E\n",
    "\n",
    "def Draw(width, height, cities, solution, infos):\n",
    "    frame = np.zeros((height, width, 3))\n",
    "    for i in range(len(cities)):\n",
    "        index_a = solution[i]\n",
    "        index_b = solution[i - 1]\n",
    "        cv2.line(frame, (int(cities[index_a][0]), int(cities[index_a][1])), (int(cities[index_b][0]), int(cities[index_b][1])), GREEN, 2)\n",
    "    for city in cities:\n",
    "        cv2.circle(frame, (int(city[0]), int(city[1])), 5, RED, -1)\n",
    "    cv2.putText(frame, f\"Temperature\", (25, 50), FONT, SIZE, WHITE)\n",
    "    cv2.putText(frame, f\"Score\", (25, 75), FONT, SIZE, WHITE)\n",
    "    cv2.putText(frame, f\"Best Score\", (25, 100), FONT, SIZE, WHITE)\n",
    "    cv2.putText(frame, f\"Worst Score\", (25, 125), FONT, SIZE, WHITE)\n",
    "    cv2.putText(frame, f\"Iterations\", (25, 150), FONT, SIZE, WHITE)\n",
    "    cv2.putText(frame, f\": {infos[0]:.2f}\", (200, 50), FONT, SIZE, WHITE)\n",
    "    cv2.putText(frame, f\": {infos[1]:.2f}\", (200, 75), FONT, SIZE, WHITE)\n",
    "    cv2.putText(frame, f\": {infos[2]:.2f}\", (200, 100), FONT, SIZE, WHITE)\n",
    "    cv2.putText(frame, f\": {infos[3]:.2f}\", (200, 125), FONT, SIZE, WHITE)\n",
    "    cv2.putText(frame, f\": {infos[4]:.2f}\", (200, 150), FONT, SIZE, WHITE)\n",
    "    cv2.imshow(\"Simulated Annealing\", frame)\n",
    "    cv2.waitKey(5)\n",
    "    \n",
    "def SimulatedAnnealing(cities, T0, T_end):\n",
    "    current_solution = Initialize(array_len)\n",
    "    currentEnergy = CalculateEnergy(cities, current_solution) # вычисляем энергию для первого состояния\n",
    "    T = T0\n",
    "    best_Energy = worst_Energy = currentEnergy\n",
    "    min_solution = current_solution\n",
    "    i = 0\n",
    "    while(T > T_end):  # на всякий случай ограничеваем количество итераций\n",
    "    # может быть полезно при тестировании сложных функций изменения температуры T       \n",
    "\n",
    "        new_solution = GenerateStateCandidate(current_solution) # получаем новое решение\n",
    "        candidateEnergy = CalculateEnergy(cities, new_solution) # вычисляем его энергию\n",
    "        best_Energy = min(best_Energy, candidateEnergy)\n",
    "        worst_Energy = max(worst_Energy, candidateEnergy)\n",
    "        \n",
    "        if(candidateEnergy < currentEnergy): # если кандидат обладает меньшей энергией\n",
    "            currentEnergy = candidateEnergy # то оно становится текущим состоянием\n",
    "            current_solution = new_solution\n",
    "        else:\n",
    "            p = GetTransitionProbability(candidateEnergy - currentEnergy, T) # иначе, считаем вероятность\n",
    "            if (IsTransition(p) == 1): # и смотрим, осуществится ли переход\n",
    "                currentEnergy = candidateEnergy\n",
    "                current_solution = new_solution\n",
    "\n",
    "        T *= 0.9995 # уменьшаем температуру\n",
    "        i += 1\n",
    "        infos = (T, currentEnergy, best_Energy, worst_Energy, i)\n",
    "        Draw(WIDTH, HEIGHT, cities, current_solution, infos)"
   ]
  },
  {
   "cell_type": "code",
   "execution_count": 17,
   "metadata": {},
   "outputs": [
    {
     "name": "stdout",
     "output_type": "stream",
     "text": [
      "9849.645760115627\n",
      "Wall time: 4.97 s\n"
     ]
    },
    {
     "data": {
      "image/png": "[encoded data removed]",
      "text/plain": [
       "<Figure size 720x720 with 1 Axes>"
      ]
     },
     "metadata": {
      "needs_background": "light"
     },
     "output_type": "display_data"
    }
   ],
   "source": [
    "%%time\n",
    "import numpy as np\n",
    "import random\n",
    "import matplotlib.pyplot as plt\n",
    "import cv2\n",
    "\n",
    "# Задаем начальные минимальную и максимальную температуры\n",
    "t_min = 1 # ЧЕМ БОЛЬШЕ НУЛЕЙ ТЕМ БОЛЬШЕ ИТЕРАЦИЙ. В ДАННОМ СЛУЧАЕ СЕЙЧАС СТОИТ 10000 ИТЕРАЦИЙ\n",
    "t_max = 100\n",
    "WIDTH = 1200\n",
    "HEIGHT = 780\n",
    "FONT = cv2.FONT_HERSHEY_DUPLEX\n",
    "SIZE = 0.7\n",
    "WHITE = (255, 255, 255)\n",
    "GREEN = (0, 255, 0)\n",
    "RED = (0, 0, 255)\n",
    "# Задаем датасет\n",
    "array_len = 100 # КОЛИЧЕСТВО ТОЧЕК\n",
    "cities = np.zeros((array_len, 2))\n",
    "for i in range(array_len):\n",
    "    position_x = random.randint(0, WIDTH)\n",
    "    position_y = random.randint(0, HEIGHT)\n",
    "    cities[i][0] = position_x \n",
    "    cities[i][1] = position_y\n",
    "#print(cities)\n",
    "#Визуализируем датасет\n",
    "plt.figure(figsize = (10, 10))\n",
    "plt.title(\"Датасет\")\n",
    "plt.scatter(cities[..., 0], cities[..., 1], 10)\n",
    "\n",
    "SimulatedAnnealing(cities, t_max, t_min)"
   ]
  },
  {
   "cell_type": "code",
   "execution_count": null,
   "metadata": {},
   "outputs": [],
   "source": []
  },
  {
   "cell_type": "code",
   "execution_count": null,
   "metadata": {},
   "outputs": [],
   "source": []
  }
 ],
 "metadata": {
  "interpreter": {
   "hash": "b3ba2566441a7c06988d0923437866b63cedc61552a5af99d1f4fb67d367b25f"
  },
  "kernelspec": {
   "display_name": "Python 3",
   "language": "python",
   "name": "python3"
  },
  "language_info": {
   "codemirror_mode": {
    "name": "ipython",
    "version": 3
   },
   "file_extension": ".py",
   "mimetype": "text/x-python",
   "name": "python",
   "nbconvert_exporter": "python",
   "pygments_lexer": "ipython3",
   "version": "3.8.5"
  }
 },
 "nbformat": 4,
 "nbformat_minor": 4
}
