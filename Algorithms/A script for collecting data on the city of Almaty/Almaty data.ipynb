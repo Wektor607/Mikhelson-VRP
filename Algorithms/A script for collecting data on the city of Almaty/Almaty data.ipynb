{
 "cells": [
  {
   "cell_type": "markdown",
   "id": "423a5a42",
   "metadata": {},
   "source": [
    "# Удаление ненужных столбцов и поиск координат конкретных адресов через Google Maps"
   ]
  },
  {
   "cell_type": "code",
   "execution_count": null,
   "id": "cba71db7",
   "metadata": {},
   "outputs": [],
   "source": [
    "from selenium import webdriver\n",
    "from tqdm import tqdm_notebook as tqdmn\n",
    "import pandas as pd\n",
    "import folium\n",
    "\n",
    "lst = [\n",
    "    \"C:/Users/German/Desktop/Курсовая_работа/Алгоритмы/Датасеты/Dataset_CVRPTW/20201020_182616.csv\",#\n",
    "    \"C:/Users/German/Desktop/Курсовая_работа/Алгоритмы/Датасеты/Dataset_CVRPTW/20201021_185504.csv\",#\n",
    "    \"C:/Users/German/Desktop/Курсовая_работа/Алгоритмы/Датасеты/Dataset_CVRPTW/20201111_223641.csv\",#\n",
    "    \"C:/Users/German/Desktop/Курсовая_работа/Алгоритмы/Датасеты/Dataset_CVRPTW/20201118_223519.csv\",#\n",
    "    \"C:/Users/German/Desktop/Курсовая_работа/Алгоритмы/Датасеты/Dataset_CVRPTW/20201119_230826.csv\",#\n",
    "    \"C:/Users/German/Desktop/Курсовая_работа/Алгоритмы/Датасеты/Dataset_CVRPTW/20201123_210620.csv\",#\n",
    "    \"C:/Users/German/Desktop/Курсовая_работа/Алгоритмы/Датасеты/Dataset_CVRPTW/20201125_032739.csv\",#\n",
    "    \"C:/Users/German/Desktop/Курсовая_работа/Алгоритмы/Датасеты/Dataset_CVRPTW/20201125_225552.csv\",#\n",
    "    \"C:/Users/German/Desktop/Курсовая_работа/Алгоритмы/Датасеты/Dataset_CVRPTW/20201126_190637.csv\",#\n",
    "    \"C:/Users/German/Desktop/Курсовая_работа/Алгоритмы/Датасеты/Dataset_CVRPTW/20201130_210949.csv\",#\n",
    "    \"C:/Users/German/Desktop/Курсовая_работа/Алгоритмы/Датасеты/Dataset_CVRPTW/20201201_165823.csv\",#\n",
    "    \"C:/Users/German/Desktop/Курсовая_работа/Алгоритмы/Датасеты/Dataset_CVRPTW/20201202_191224.csv\",#\n",
    "    \"C:/Users/German/Desktop/Курсовая_работа/Алгоритмы/Датасеты/Dataset_CVRPTW/20201208_202137.csv\",#\n",
    "    \"C:/Users/German/Desktop/Курсовая_работа/Алгоритмы/Датасеты/Dataset_CVRPTW/20201215_221946.csv\",#\n",
    "    \"C:/Users/German/Desktop/Курсовая_работа/Алгоритмы/Датасеты/Dataset_CVRPTW/20201216_183747.csv\",#\n",
    "    \"C:/Users/German/Desktop/Курсовая_работа/Алгоритмы/Датасеты/Dataset_CVRPTW/20201217_144624.csv\",#\n",
    "    \"C:/Users/German/Desktop/Курсовая_работа/Алгоритмы/Датасеты/Dataset_CVRPTW/20201224_012524.csv\",#\n",
    "    \"C:/Users/German/Desktop/Курсовая_работа/Алгоритмы/Датасеты/Dataset_CVRPTW/20210105_235706.csv\"#\n",
    "]\n",
    "for i in range(len(lst)):\n",
    "    \n",
    "    file_name = lst[i]\n",
    "    acnc = pd.read_csv(file_name, sep= \"\\t\", keep_default_na=False)\n",
    "    mel = acnc[\n",
    "        ['OrderID', 'Weight', 'PickupAddress', 'DeliveryAddress', 'DeliveryTimeRange']].copy()\n",
    "    mel['Url_depo'] = ['https://www.google.com/maps/search/' + i for i in mel['PickupAddress'] ]\n",
    "    mel['Url_clients'] = ['https://www.google.com/maps/search/' + i for i in mel['DeliveryAddress'] ]\n",
    "    Url_With_Coordinates_depo = []\n",
    "    Url_With_Coordinates_clients = []\n",
    "\n",
    "    option = webdriver.ChromeOptions()\n",
    "    prefs = {'profile.default_content_setting_values': {}}\n",
    "    option.add_experimental_option('prefs', prefs)\n",
    "\n",
    "    driver = webdriver.Chrome(\"chromedriver.exe\", options=option)\n",
    "\n",
    "    for url in tqdmn(mel.Url_depo, leave=False):\n",
    "        driver.get(url)\n",
    "        Url_With_Coordinates_depo.append(driver.find_element_by_css_selector('meta[itemprop=image]').get_attribute('content'))\n",
    "\n",
    "    for url in tqdmn(mel.Url_clients, leave=False):\n",
    "        driver.get(url)\n",
    "        Url_With_Coordinates_clients.append(driver.find_element_by_css_selector('meta[itemprop=image]').get_attribute('content'))\n",
    "\n",
    "    driver.close()\n",
    "\n",
    "    mel['Url_With_Coordinates_depo'] = Url_With_Coordinates_depo\n",
    "    mel['Url_With_Coordinates_clients'] = Url_With_Coordinates_clients\n",
    "    mel = mel[mel.Url_With_Coordinates_clients.str.contains('&zoom=')].copy()\n",
    "    \n",
    "    mel['x_depo'] = [ url.split('?center=')[1].split('&zoom=')[0].split('%2C')[0] for url in mel['Url_With_Coordinates_depo'] ]\n",
    "    mel['y_depo'] = [url.split('?center=')[1].split('&zoom=')[0].split('%2C')[1] for url in mel['Url_With_Coordinates_depo'] ]\n",
    "    mel['x_client'] = [ url.split('?center=')[1].split('&zoom=')[0].split('%2C')[0] for url in mel['Url_With_Coordinates_clients'] ]\n",
    "    mel['y_client'] = [url.split('?center=')[1].split('&zoom=')[0].split('%2C')[1] for url in mel['Url_With_Coordinates_clients'] ]\n",
    "    \n",
    "\n",
    "    mel = mel.drop('OrderID', 1)\n",
    "    mel = mel.drop('PickupAddress', 1)\n",
    "    mel = mel.drop('DeliveryAddress', 1)\n",
    "    mel = mel.drop('Url_depo', 1)\n",
    "    mel = mel.drop('Url_clients', 1)\n",
    "    mel = mel.drop('Url_With_Coordinates_depo', 1)\n",
    "    mel = mel.drop('Url_With_Coordinates_clients', 1)\n",
    "\n",
    "    mel.to_csv(file_name, sep='\\t')"
   ]
  },
  {
   "cell_type": "markdown",
   "id": "dce8879e",
   "metadata": {},
   "source": [
    "# Удаление двух столбцов с координатами депо и добавление координат, веса и временного окна депо в последнюю строку"
   ]
  },
  {
   "cell_type": "code",
   "execution_count": null,
   "id": "faeaefa3",
   "metadata": {},
   "outputs": [],
   "source": [
    "for i in range(len(lst)):\n",
    "    file_name = lst[i]\n",
    "    acnc = pd.read_csv(file_name, sep= \"\\t\", keep_default_na=False)\n",
    "    str_data = {'Weight': 0.0, 'DeliveryTimeRange': acnc['DeliveryTimeRange'][0], 'x_client':acnc['x_depo'][0], \n",
    "                'y_client': acnc['y_depo'][0]}\n",
    "    acnc = acnc.drop('x_depo', 1)\n",
    "    acnc = acnc.drop('y_depo', 1)\n",
    "    acnc = acnc.drop(acnc.columns[0], axis=1)\n",
    "    acnc = acnc.append(str_data, ignore_index=True)\n",
    "    print(acnc)\n",
    "    acnc.to_csv(file_name, sep='\\t')\n"
   ]
  },
  {
   "cell_type": "markdown",
   "id": "18508866",
   "metadata": {},
   "source": [
    "# Перестановка столбцов в порядке: координаты, вес груза, временное окно"
   ]
  },
  {
   "cell_type": "code",
   "execution_count": null,
   "id": "efbb1d5f",
   "metadata": {},
   "outputs": [],
   "source": [
    "for i in range(len(lst)):\n",
    "    file_name = lst[i]\n",
    "    acnc = pd.read_csv(file_name, sep= \"\\t\", keep_default_na=False)\n",
    "    acnc = acnc.reindex(columns=['x_client', 'y_client', 'Weight', 'DeliveryTimeRange'])\n",
    "    acnc.to_csv(file_name, sep='\\t', index = False)\n",
    "acnc"
   ]
  },
  {
   "cell_type": "markdown",
   "id": "891394b7",
   "metadata": {},
   "source": [
    "# Чистка координат не удовлетворящих данным широте и долготе"
   ]
  },
  {
   "cell_type": "code",
   "execution_count": null,
   "id": "1938ccaf",
   "metadata": {},
   "outputs": [],
   "source": [
    "for i in range(len(lst)):\n",
    "    file_name = lst[i]\n",
    "    acnc = pd.read_csv(file_name, sep= \"\\t\", keep_default_na=False)\n",
    "    acnc = acnc.drop(acnc[(acnc.x_client < 43) | (acnc.x_client >= 44)].index)\n",
    "    acnc = acnc.drop(acnc[(acnc.y_client < 76) | (acnc.y_client >= 77)].index)\n",
    "    acnc.to_csv(file_name, sep='\\t', index = False)"
   ]
  }
 ],
 "metadata": {
  "kernelspec": {
   "display_name": "Python 3",
   "language": "python",
   "name": "python3"
  },
  "language_info": {
   "codemirror_mode": {
    "name": "ipython",
    "version": 3
   },
   "file_extension": ".py",
   "mimetype": "text/x-python",
   "name": "python",
   "nbconvert_exporter": "python",
   "pygments_lexer": "ipython3",
   "version": "3.8.8"
  }
 },
 "nbformat": 4,
 "nbformat_minor": 5
}
