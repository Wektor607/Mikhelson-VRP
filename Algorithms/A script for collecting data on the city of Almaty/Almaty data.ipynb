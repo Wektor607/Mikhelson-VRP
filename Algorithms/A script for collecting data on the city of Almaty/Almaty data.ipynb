{
 "cells": [
  {
   "cell_type": "code",
   "execution_count": null,
   "id": "cba71db7",
   "metadata": {},
   "outputs": [
    {
     "name": "stderr",
     "output_type": "stream",
     "text": [
      "<ipython-input-1-ab41ff0bf81b>:48: DeprecationWarning: executable_path has been deprecated, please pass in a Service object\n",
      "  driver = webdriver.Chrome(\"chromedriver.exe\", options=option)\n",
      "<ipython-input-1-ab41ff0bf81b>:50: TqdmDeprecationWarning: This function will be removed in tqdm==5.0.0\n",
      "Please use `tqdm.notebook.tqdm` instead of `tqdm.tqdm_notebook`\n",
      "  for url in tqdmn(mel.Url_depo, leave=False):\n"
     ]
    },
    {
     "data": {
      "application/vnd.jupyter.widget-view+json": {
       "model_id": "",
       "version_major": 2,
       "version_minor": 0
      },
      "text/plain": [
       "  0%|          | 0/316 [00:00<?, ?it/s]"
      ]
     },
     "metadata": {},
     "output_type": "display_data"
    },
    {
     "name": "stderr",
     "output_type": "stream",
     "text": [
      "<ipython-input-1-ab41ff0bf81b>:52: DeprecationWarning: find_element_by_* commands are deprecated. Please use find_element() instead\n",
      "  Url_With_Coordinates_depo.append(driver.find_element_by_css_selector('meta[itemprop=image]').get_attribute('content'))\n",
      "<ipython-input-1-ab41ff0bf81b>:54: TqdmDeprecationWarning: This function will be removed in tqdm==5.0.0\n",
      "Please use `tqdm.notebook.tqdm` instead of `tqdm.tqdm_notebook`\n",
      "  for url in tqdmn(mel.Url_clients, leave=False):\n"
     ]
    },
    {
     "data": {
      "application/vnd.jupyter.widget-view+json": {
       "model_id": "",
       "version_major": 2,
       "version_minor": 0
      },
      "text/plain": [
       "  0%|          | 0/316 [00:00<?, ?it/s]"
      ]
     },
     "metadata": {},
     "output_type": "display_data"
    },
    {
     "name": "stderr",
     "output_type": "stream",
     "text": [
      "<ipython-input-1-ab41ff0bf81b>:56: DeprecationWarning: find_element_by_* commands are deprecated. Please use find_element() instead\n",
      "  Url_With_Coordinates_clients.append(driver.find_element_by_css_selector('meta[itemprop=image]').get_attribute('content'))\n"
     ]
    },
    {
     "data": {
      "application/vnd.jupyter.widget-view+json": {
       "model_id": "",
       "version_major": 2,
       "version_minor": 0
      },
      "text/plain": [
       "  0%|          | 0/316 [00:00<?, ?it/s]"
      ]
     },
     "metadata": {},
     "output_type": "display_data"
    },
    {
     "data": {
      "application/vnd.jupyter.widget-view+json": {
       "model_id": "",
       "version_major": 2,
       "version_minor": 0
      },
      "text/plain": [
       "  0%|          | 0/316 [00:00<?, ?it/s]"
      ]
     },
     "metadata": {},
     "output_type": "display_data"
    },
    {
     "data": {
      "application/vnd.jupyter.widget-view+json": {
       "model_id": "",
       "version_major": 2,
       "version_minor": 0
      },
      "text/plain": [
       "  0%|          | 0/316 [00:00<?, ?it/s]"
      ]
     },
     "metadata": {},
     "output_type": "display_data"
    },
    {
     "data": {
      "application/vnd.jupyter.widget-view+json": {
       "model_id": "",
       "version_major": 2,
       "version_minor": 0
      },
      "text/plain": [
       "  0%|          | 0/316 [00:00<?, ?it/s]"
      ]
     },
     "metadata": {},
     "output_type": "display_data"
    },
    {
     "data": {
      "application/vnd.jupyter.widget-view+json": {
       "model_id": "",
       "version_major": 2,
       "version_minor": 0
      },
      "text/plain": [
       "  0%|          | 0/316 [00:00<?, ?it/s]"
      ]
     },
     "metadata": {},
     "output_type": "display_data"
    },
    {
     "data": {
      "application/vnd.jupyter.widget-view+json": {
       "model_id": "",
       "version_major": 2,
       "version_minor": 0
      },
      "text/plain": [
       "  0%|          | 0/316 [00:00<?, ?it/s]"
      ]
     },
     "metadata": {},
     "output_type": "display_data"
    },
    {
     "data": {
      "application/vnd.jupyter.widget-view+json": {
       "model_id": "dda953c0a4e54ee58a624018f2a8cb7f",
       "version_major": 2,
       "version_minor": 0
      },
      "text/plain": [
       "  0%|          | 0/316 [00:00<?, ?it/s]"
      ]
     },
     "metadata": {},
     "output_type": "display_data"
    }
   ],
   "source": [
    "from selenium import webdriver\n",
    "from tqdm import tqdm_notebook as tqdmn\n",
    "import pandas as pd\n",
    "import folium\n",
    "\n",
    "#lst = ['20200927_123015.csv', '20200927_135221.csv','20200927_145701.csv','20200927_161843.csv','20200928_074659.csv','20200928_081904.csv','20200928_083657.csv','20200928_090044.csv','20200928_090822.csv','20200928_101857.csv','20200928_102907.csv','20200928_114457.csv','20200928_115312.csv']\n",
    "lst = [\n",
    "\"C:\\\\Users\\\\German\\\\Desktop\\\\Курсовая работа\\\\Алгоритмы\\\\Датасеты\\\\Almaty_Success\\\\20210124_220707.csv\",\n",
    "\"C:\\\\Users\\\\German\\\\Desktop\\\\Курсовая работа\\\\Алгоритмы\\\\Датасеты\\\\Almaty_Success\\\\20210126_000100.csv\",\n",
    "\"C:\\\\Users\\\\German\\\\Desktop\\\\Курсовая работа\\\\Алгоритмы\\\\Датасеты\\\\Almaty_Success\\\\20210126_234730.csv\",\n",
    "\"C:\\\\Users\\\\German\\\\Desktop\\\\Курсовая работа\\\\Алгоритмы\\\\Датасеты\\\\Almaty_Success\\\\20210127_221752.csv\",\n",
    "\"C:\\\\Users\\\\German\\\\Desktop\\\\Курсовая работа\\\\Алгоритмы\\\\Датасеты\\\\Almaty_Success\\\\20210130_000350.csv\",\n",
    "\"C:\\\\Users\\\\German\\\\Desktop\\\\Курсовая работа\\\\Алгоритмы\\\\Датасеты\\\\Almaty_Success\\\\20210130_233044.csv\",\n",
    "\"C:\\\\Users\\\\German\\\\Desktop\\\\Курсовая работа\\\\Алгоритмы\\\\Датасеты\\\\Almaty_Success\\\\20210131_225325.csv\",\n",
    "\"C:\\\\Users\\\\German\\\\Desktop\\\\Курсовая работа\\\\Алгоритмы\\\\Датасеты\\\\Almaty_Success\\\\20210204_233215.csv\",\n",
    "\"C:\\\\Users\\\\German\\\\Desktop\\\\Курсовая работа\\\\Алгоритмы\\\\Датасеты\\\\Almaty_Success\\\\20210206_000436.csv\",\n",
    "\"C:\\\\Users\\\\German\\\\Desktop\\\\Курсовая работа\\\\Алгоритмы\\\\Датасеты\\\\Almaty_Success\\\\20210206_233212.csv\",\n",
    "\"C:\\\\Users\\\\German\\\\Desktop\\\\Курсовая работа\\\\Алгоритмы\\\\Датасеты\\\\Almaty_Success\\\\20210207_230546.csv\",\n",
    "\"C:\\\\Users\\\\German\\\\Desktop\\\\Курсовая работа\\\\Алгоритмы\\\\Датасеты\\\\Almaty_Success\\\\20210208_222901.csv\",\n",
    "\"C:\\\\Users\\\\German\\\\Desktop\\\\Курсовая работа\\\\Алгоритмы\\\\Датасеты\\\\Almaty_Success\\\\20210209_235544.csv\",\n",
    "\"C:\\\\Users\\\\German\\\\Desktop\\\\Курсовая работа\\\\Алгоритмы\\\\Датасеты\\\\Almaty_Success\\\\20210210_222134.csv\",\n",
    "\"C:\\\\Users\\\\German\\\\Desktop\\\\Курсовая работа\\\\Алгоритмы\\\\Датасеты\\\\Almaty_Success\\\\20210211_214900.csv\",\n",
    "\"C:\\\\Users\\\\German\\\\Desktop\\\\Курсовая работа\\\\Алгоритмы\\\\Датасеты\\\\Almaty_Success\\\\20210212_213212.csv\",\n",
    "\"C:\\\\Users\\\\German\\\\Desktop\\\\Курсовая работа\\\\Алгоритмы\\\\Датасеты\\\\Almaty_Success\\\\20210214_002758.csv\",\n",
    "\"C:\\\\Users\\\\German\\\\Desktop\\\\Курсовая работа\\\\Алгоритмы\\\\Датасеты\\\\Almaty_Success\\\\20210215_020241.csv\",\n",
    "\"C:\\\\Users\\\\German\\\\Desktop\\\\Курсовая работа\\\\Алгоритмы\\\\Датасеты\\\\Almaty_Success\\\\20210216_001600.csv\",\n",
    "\"C:\\\\Users\\\\German\\\\Desktop\\\\Курсовая работа\\\\Алгоритмы\\\\Датасеты\\\\Almaty_Success\\\\20210217_003125.csv\",\n",
    "\"C:\\\\Users\\\\German\\\\Desktop\\\\Курсовая работа\\\\Алгоритмы\\\\Датасеты\\\\Almaty_Success\\\\20210217_220604.csv\",\n",
    "\"C:\\\\Users\\\\German\\\\Desktop\\\\Курсовая работа\\\\Алгоритмы\\\\Датасеты\\\\Almaty_Success\\\\20210218_220459.csv\",\n",
    "\"C:\\\\Users\\\\German\\\\Desktop\\\\Курсовая работа\\\\Алгоритмы\\\\Датасеты\\\\Almaty_Success\\\\20210219_233905.csv\",\n",
    "\"C:\\\\Users\\\\German\\\\Desktop\\\\Курсовая работа\\\\Алгоритмы\\\\Датасеты\\\\Almaty_Success\\\\20210220_235130.csv\",\n",
    "\"C:\\\\Users\\\\German\\\\Desktop\\\\Курсовая работа\\\\Алгоритмы\\\\Датасеты\\\\Almaty_Success\\\\20210221_235423.csv\",\n",
    "\"C:\\\\Users\\\\German\\\\Desktop\\\\Курсовая работа\\\\Алгоритмы\\\\Датасеты\\\\Almaty_Success\\\\20210222_214759.csv\"]\n",
    "for i in range(len(lst)):\n",
    "    file_name = lst[i]\n",
    "    acnc = pd.read_csv(file_name, sep= \"\\t\", keep_default_na=False)\n",
    "    mel = acnc[\n",
    "        ['OrderID', 'Weight', 'PickupAddress', 'DeliveryAddress']].copy()\n",
    "    mel['Url_depo'] = ['https://www.google.com/maps/search/' + i for i in mel['PickupAddress'] ]\n",
    "    mel['Url_clients'] = ['https://www.google.com/maps/search/' + i for i in mel['DeliveryAddress'] ]\n",
    "    Url_With_Coordinates_depo = []\n",
    "    Url_With_Coordinates_clients = []\n",
    "\n",
    "    option = webdriver.ChromeOptions()\n",
    "    prefs = {'profile.default_content_setting_values': {}}\n",
    "    option.add_experimental_option('prefs', prefs)\n",
    "\n",
    "    driver = webdriver.Chrome(\"chromedriver.exe\", options=option)\n",
    "\n",
    "    for url in tqdmn(mel.Url_depo, leave=False):\n",
    "        driver.get(url)\n",
    "        Url_With_Coordinates_depo.append(driver.find_element_by_css_selector('meta[itemprop=image]').get_attribute('content'))\n",
    "\n",
    "    for url in tqdmn(mel.Url_clients, leave=False):\n",
    "        driver.get(url)\n",
    "        Url_With_Coordinates_clients.append(driver.find_element_by_css_selector('meta[itemprop=image]').get_attribute('content'))\n",
    "\n",
    "    driver.close()\n",
    "\n",
    "    mel['Url_With_Coordinates_depo'] = Url_With_Coordinates_depo\n",
    "    mel['Url_With_Coordinates_clients'] = Url_With_Coordinates_clients\n",
    "    mel = mel[mel.Url_With_Coordinates_clients.str.contains('&zoom=')].copy()\n",
    "    \n",
    "    mel['x_depo'] = [ url.split('?center=')[1].split('&zoom=')[0].split('%2C')[0] for url in mel['Url_With_Coordinates_depo'] ]\n",
    "    mel['y_depo'] = [url.split('?center=')[1].split('&zoom=')[0].split('%2C')[1] for url in mel['Url_With_Coordinates_depo'] ]\n",
    "    mel['x_client'] = [ url.split('?center=')[1].split('&zoom=')[0].split('%2C')[0] for url in mel['Url_With_Coordinates_clients'] ]\n",
    "    mel['y_client'] = [url.split('?center=')[1].split('&zoom=')[0].split('%2C')[1] for url in mel['Url_With_Coordinates_clients'] ]\n",
    "\n",
    "    mel = mel.drop('OrderID', 1)\n",
    "    mel = mel.drop('PickupAddress', 1)\n",
    "    mel = mel.drop('DeliveryAddress', 1)\n",
    "    mel = mel.drop('Url_depo', 1)\n",
    "    mel = mel.drop('Url_clients', 1)\n",
    "    mel = mel.drop('Url_With_Coordinates_depo', 1)\n",
    "    mel = mel.drop('Url_With_Coordinates_clients', 1)\n",
    "\n",
    "    mel.to_csv(file_name, sep='\\t')"
   ]
  },
  {
   "cell_type": "code",
   "execution_count": null,
   "id": "651fc19a",
   "metadata": {},
   "outputs": [],
   "source": [
    "# #pd.set_option('display.max_rows', None)\n",
    " \n",
    "# # Сброс ограничений на число столбцов\n",
    "# pd.set_option('display.max_columns', None)\n",
    " \n",
    "# # Сброс ограничений на количество символов в записи\n",
    "# pd.set_option('display.max_colwidth', None)\n",
    "# mel"
   ]
  },
  {
   "cell_type": "code",
   "execution_count": null,
   "id": "5687200d",
   "metadata": {},
   "outputs": [],
   "source": []
  }
 ],
 "metadata": {
  "kernelspec": {
   "display_name": "Python 3",
   "language": "python",
   "name": "python3"
  },
  "language_info": {
   "codemirror_mode": {
    "name": "ipython",
    "version": 3
   },
   "file_extension": ".py",
   "mimetype": "text/x-python",
   "name": "python",
   "nbconvert_exporter": "python",
   "pygments_lexer": "ipython3",
   "version": "3.8.8"
  }
 },
 "nbformat": 4,
 "nbformat_minor": 5
}
