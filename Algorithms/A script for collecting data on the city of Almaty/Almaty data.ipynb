{
 "cells": [
  {
   "cell_type": "code",
   "execution_count": null,
   "id": "cba71db7",
   "metadata": {},
   "outputs": [
    {
     "name": "stderr",
     "output_type": "stream",
     "text": [
      "<ipython-input-10-6f83aa111b8b>:39: DeprecationWarning: executable_path has been deprecated, please pass in a Service object\n",
      "  driver = webdriver.Chrome(\"chromedriver.exe\", options=option)\n",
      "<ipython-input-10-6f83aa111b8b>:41: TqdmDeprecationWarning: This function will be removed in tqdm==5.0.0\n",
      "Please use `tqdm.notebook.tqdm` instead of `tqdm.tqdm_notebook`\n",
      "  for url in tqdmn(mel.Url_depo, leave=False):\n"
     ]
    },
    {
     "data": {
      "application/vnd.jupyter.widget-view+json": {
       "model_id": "",
       "version_major": 2,
       "version_minor": 0
      },
      "text/plain": [
       "  0%|          | 0/140 [00:00<?, ?it/s]"
      ]
     },
     "metadata": {},
     "output_type": "display_data"
    },
    {
     "name": "stderr",
     "output_type": "stream",
     "text": [
      "<ipython-input-10-6f83aa111b8b>:43: DeprecationWarning: find_element_by_* commands are deprecated. Please use find_element() instead\n",
      "  Url_With_Coordinates_depo.append(driver.find_element_by_css_selector('meta[itemprop=image]').get_attribute('content'))\n",
      "<ipython-input-10-6f83aa111b8b>:45: TqdmDeprecationWarning: This function will be removed in tqdm==5.0.0\n",
      "Please use `tqdm.notebook.tqdm` instead of `tqdm.tqdm_notebook`\n",
      "  for url in tqdmn(mel.Url_clients, leave=False):\n"
     ]
    },
    {
     "data": {
      "application/vnd.jupyter.widget-view+json": {
       "model_id": "",
       "version_major": 2,
       "version_minor": 0
      },
      "text/plain": [
       "  0%|          | 0/140 [00:00<?, ?it/s]"
      ]
     },
     "metadata": {},
     "output_type": "display_data"
    },
    {
     "name": "stderr",
     "output_type": "stream",
     "text": [
      "<ipython-input-10-6f83aa111b8b>:47: DeprecationWarning: find_element_by_* commands are deprecated. Please use find_element() instead\n",
      "  Url_With_Coordinates_clients.append(driver.find_element_by_css_selector('meta[itemprop=image]').get_attribute('content'))\n"
     ]
    },
    {
     "data": {
      "application/vnd.jupyter.widget-view+json": {
       "model_id": "",
       "version_major": 2,
       "version_minor": 0
      },
      "text/plain": [
       "  0%|          | 0/113 [00:00<?, ?it/s]"
      ]
     },
     "metadata": {},
     "output_type": "display_data"
    },
    {
     "data": {
      "application/vnd.jupyter.widget-view+json": {
       "model_id": "",
       "version_major": 2,
       "version_minor": 0
      },
      "text/plain": [
       "  0%|          | 0/113 [00:00<?, ?it/s]"
      ]
     },
     "metadata": {},
     "output_type": "display_data"
    },
    {
     "data": {
      "application/vnd.jupyter.widget-view+json": {
       "model_id": "",
       "version_major": 2,
       "version_minor": 0
      },
      "text/plain": [
       "  0%|          | 0/103 [00:00<?, ?it/s]"
      ]
     },
     "metadata": {},
     "output_type": "display_data"
    },
    {
     "data": {
      "application/vnd.jupyter.widget-view+json": {
       "model_id": "3bd660fc688149a09a04e7d299895e69",
       "version_major": 2,
       "version_minor": 0
      },
      "text/plain": [
       "  0%|          | 0/103 [00:00<?, ?it/s]"
      ]
     },
     "metadata": {},
     "output_type": "display_data"
    }
   ],
   "source": [
    "from selenium import webdriver\n",
    "from tqdm import tqdm_notebook as tqdmn\n",
    "import pandas as pd\n",
    "import folium\n",
    "\n",
    "lst = [\n",
    "    \"C:/Users/German/Desktop/Курсовая_работа/Алгоритмы/Датасеты/Dataset_CVRPTW/20201203_215226.csv\", #\n",
    "    \"C:/Users/German/Desktop/Курсовая_работа/Алгоритмы/Датасеты/Dataset_CVRPTW/20201204_205445.csv\", #\n",
    "    \"C:/Users/German/Desktop/Курсовая_работа/Алгоритмы/Датасеты/Dataset_CVRPTW/20201209_152236.csv\", #\n",
    "    \"C:/Users/German/Desktop/Курсовая_работа/Алгоритмы/Датасеты/Dataset_CVRPTW/20201214_185310.csv\", #\n",
    "    \"C:/Users/German/Desktop/Курсовая_работа/Алгоритмы/Датасеты/Dataset_CVRPTW/20201007_185322.csv\", #\n",
    "    \"C:/Users/German/Desktop/Курсовая_работа/Алгоритмы/Датасеты/Dataset_CVRPTW/20201023_203450.csv\", #\n",
    "    \"C:/Users/German/Desktop/Курсовая_работа/Алгоритмы/Датасеты/Dataset_CVRPTW/20201026_211708.csv\", #\n",
    "    \"C:/Users/German/Desktop/Курсовая_работа/Алгоритмы/Датасеты/Dataset_CVRPTW/20201027_214904.csv\", #\n",
    "    \"C:/Users/German/Desktop/Курсовая_работа/Алгоритмы/Датасеты/Dataset_CVRPTW/20201028_202211.csv\", #\n",
    "    \"C:/Users/German/Desktop/Курсовая_работа/Алгоритмы/Датасеты/Dataset_CVRPTW/20201029_201947.csv\", #\n",
    "    \"C:/Users/German/Desktop/Курсовая_работа/Алгоритмы/Датасеты/Dataset_CVRPTW/20201105_201910.csv\", #\n",
    "    \"C:/Users/German/Desktop/Курсовая_работа/Алгоритмы/Датасеты/Dataset_CVRPTW/20201109_190333.csv\", #\n",
    "    \"C:/Users/German/Desktop/Курсовая_работа/Алгоритмы/Датасеты/Dataset_CVRPTW/20201110_211510.csv\", #\n",
    "    \"C:/Users/German/Desktop/Курсовая_работа/Алгоритмы/Датасеты/Dataset_CVRPTW/20201110_212146.csv\", #\n",
    "    \"C:/Users/German/Desktop/Курсовая_работа/Алгоритмы/Датасеты/Dataset_CVRPTW/20201117_214239.csv\", #\n",
    "    \"C:/Users/German/Desktop/Курсовая_работа/Алгоритмы/Датасеты/Dataset_CVRPTW/20201127_184250.csv\",#\n",
    "    \"C:/Users/German/Desktop/Курсовая_работа/Алгоритмы/Датасеты/Dataset_CVRPTW/20201128_220622.csv\" #\n",
    "]\n",
    "for i in range(len(lst)):\n",
    "    file_name = lst[i]\n",
    "    acnc = pd.read_csv(file_name, sep= \"\\t\", keep_default_na=False)\n",
    "    mel = acnc[\n",
    "        ['OrderID', 'Weight', 'PickupAddress', 'DeliveryAddress', 'DeliveryTimeRange']].copy()\n",
    "    mel['Url_depo'] = ['https://www.google.com/maps/search/' + i for i in mel['PickupAddress'] ]\n",
    "    mel['Url_clients'] = ['https://www.google.com/maps/search/' + i for i in mel['DeliveryAddress'] ]\n",
    "    Url_With_Coordinates_depo = []\n",
    "    Url_With_Coordinates_clients = []\n",
    "\n",
    "    option = webdriver.ChromeOptions()\n",
    "    prefs = {'profile.default_content_setting_values': {}}\n",
    "    option.add_experimental_option('prefs', prefs)\n",
    "\n",
    "    driver = webdriver.Chrome(\"chromedriver.exe\", options=option)\n",
    "\n",
    "    for url in tqdmn(mel.Url_depo, leave=False):\n",
    "        driver.get(url)\n",
    "        Url_With_Coordinates_depo.append(driver.find_element_by_css_selector('meta[itemprop=image]').get_attribute('content'))\n",
    "\n",
    "    for url in tqdmn(mel.Url_clients, leave=False):\n",
    "        driver.get(url)\n",
    "        Url_With_Coordinates_clients.append(driver.find_element_by_css_selector('meta[itemprop=image]').get_attribute('content'))\n",
    "\n",
    "    driver.close()\n",
    "\n",
    "    mel['Url_With_Coordinates_depo'] = Url_With_Coordinates_depo\n",
    "    mel['Url_With_Coordinates_clients'] = Url_With_Coordinates_clients\n",
    "    mel = mel[mel.Url_With_Coordinates_clients.str.contains('&zoom=')].copy()\n",
    "    \n",
    "    mel['x_depo'] = [ url.split('?center=')[1].split('&zoom=')[0].split('%2C')[0] for url in mel['Url_With_Coordinates_depo'] ]\n",
    "    mel['y_depo'] = [url.split('?center=')[1].split('&zoom=')[0].split('%2C')[1] for url in mel['Url_With_Coordinates_depo'] ]\n",
    "    mel['x_client'] = [ url.split('?center=')[1].split('&zoom=')[0].split('%2C')[0] for url in mel['Url_With_Coordinates_clients'] ]\n",
    "    mel['y_client'] = [url.split('?center=')[1].split('&zoom=')[0].split('%2C')[1] for url in mel['Url_With_Coordinates_clients'] ]\n",
    "    \n",
    "\n",
    "    mel = mel.drop('OrderID', 1)\n",
    "    mel = mel.drop('PickupAddress', 1)\n",
    "    mel = mel.drop('DeliveryAddress', 1)\n",
    "    mel = mel.drop('Url_depo', 1)\n",
    "    mel = mel.drop('Url_clients', 1)\n",
    "    mel = mel.drop('Url_With_Coordinates_depo', 1)\n",
    "    mel = mel.drop('Url_With_Coordinates_clients', 1)\n",
    "\n",
    "    mel.to_csv(file_name, sep='\\t')"
   ]
  },
  {
   "cell_type": "code",
   "execution_count": null,
   "id": "faeaefa3",
   "metadata": {},
   "outputs": [],
   "source": []
  }
 ],
 "metadata": {
  "kernelspec": {
   "display_name": "Python 3",
   "language": "python",
   "name": "python3"
  },
  "language_info": {
   "codemirror_mode": {
    "name": "ipython",
    "version": 3
   },
   "file_extension": ".py",
   "mimetype": "text/x-python",
   "name": "python",
   "nbconvert_exporter": "python",
   "pygments_lexer": "ipython3",
   "version": "3.8.8"
  }
 },
 "nbformat": 4,
 "nbformat_minor": 5
}
